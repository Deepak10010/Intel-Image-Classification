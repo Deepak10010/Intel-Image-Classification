{
 "cells": [
  {
   "cell_type": "markdown",
   "id": "5b324540",
   "metadata": {},
   "source": [
    "# Baseline Model"
   ]
  },
  {
   "cell_type": "code",
   "execution_count": 26,
   "id": "03ee2f6d",
   "metadata": {},
   "outputs": [],
   "source": [
    "import numpy as np\n",
    "import matplotlib.pyplot as plot\n",
    "import seaborn as sns\n",
    "%matplotlib inline\n",
    "\n",
    "from sklearn.metrics import confusion_matrix\n",
    "\n",
    "import tensorflow as tf\n",
    "from tensorflow.keras.models import Sequential\n",
    "from tensorflow.keras.layers import Activation, BatchNormalization, Conv2D, Dense, Dropout, Flatten, MaxPooling2D\n",
    "from tensorflow.keras.preprocessing.image import ImageDataGenerator\n",
    "from tensorflow.keras.optimizers import Adam\n",
    "from tensorflow.keras.losses import CategoricalCrossentropy\n",
    "from tensorflow.keras.regularizers import l2\n",
    "from tensorflow.keras.callbacks import ReduceLROnPlateau, EarlyStopping"
   ]
  },
  {
   "cell_type": "code",
   "execution_count": 25,
   "id": "98f987fe",
   "metadata": {},
   "outputs": [
    {
     "name": "stdout",
     "output_type": "stream",
     "text": [
      "Found 11230 images belonging to 6 classes.\n",
      "Found 2804 images belonging to 6 classes.\n",
      "Found 3000 images belonging to 6 classes.\n"
     ]
    }
   ],
   "source": [
    "from keras.preprocessing.image import ImageDataGenerator \n",
    "\n",
    "train_data_dir = 'C:/Users/Sam_S/OneDrive/Documents/Data science 2022-2023/Deep learning assignment/seg_train/seg_train' \n",
    "test_data_dir = 'C:/Users/Sam_S/OneDrive/Documents/Data science 2022-2023/Deep learning assignment/seg_test/seg_test'\n",
    "image_generator = ImageDataGenerator(rescale=1/255, validation_split=0.2)    \n",
    "\n",
    "train_data = image_generator.flow_from_directory(batch_size=64,\n",
    "                                                 directory=train_data_dir,\n",
    "                                                 shuffle=True,\n",
    "                                                 target_size=(64,64), \n",
    "                                                 subset=\"training\",\n",
    "                                                 class_mode='categorical')\n",
    "\n",
    "val_data = image_generator.flow_from_directory(batch_size=64,\n",
    "                                                 directory=train_data_dir,\n",
    "                                                 shuffle=True,\n",
    "                                                 target_size=(64,64), \n",
    "                                                 subset=\"validation\",\n",
    "                                                 class_mode='categorical')\n",
    "test_gen = ImageDataGenerator(rescale=1./255)\n",
    "test_data = test_gen.flow_from_directory(test_data_dir,\n",
    "                                       target_size=(64,64), batch_size=64, shuffle=False)"
   ]
  },
  {
   "cell_type": "code",
   "execution_count": 27,
   "id": "45695c34",
   "metadata": {},
   "outputs": [
    {
     "data": {
      "text/plain": [
       "{0: 'buildings',\n",
       " 1: 'forest',\n",
       " 2: 'glacier',\n",
       " 3: 'mountain',\n",
       " 4: 'sea',\n",
       " 5: 'street'}"
      ]
     },
     "execution_count": 27,
     "metadata": {},
     "output_type": "execute_result"
    }
   ],
   "source": [
    "labels= {value: key for key, value in train_data.class_indices.items()}\n",
    "labels"
   ]
  },
  {
   "cell_type": "code",
   "execution_count": 9,
   "id": "da95dfb9",
   "metadata": {},
   "outputs": [
    {
     "name": "stdout",
     "output_type": "stream",
     "text": [
      "Model: \"sequential_1\"\n",
      "_________________________________________________________________\n",
      " Layer (type)                Output Shape              Param #   \n",
      "=================================================================\n",
      " conv2d_3 (Conv2D)           (None, 64, 64, 64)        1792      \n",
      "                                                                 \n",
      " activation_3 (Activation)   (None, 64, 64, 64)        0         \n",
      "                                                                 \n",
      " max_pooling2d_3 (MaxPooling  (None, 32, 32, 64)       0         \n",
      " 2D)                                                             \n",
      "                                                                 \n",
      " conv2d_4 (Conv2D)           (None, 32, 32, 64)        36928     \n",
      "                                                                 \n",
      " activation_4 (Activation)   (None, 32, 32, 64)        0         \n",
      "                                                                 \n",
      " max_pooling2d_4 (MaxPooling  (None, 16, 16, 64)       0         \n",
      " 2D)                                                             \n",
      "                                                                 \n",
      " conv2d_5 (Conv2D)           (None, 16, 16, 64)        36928     \n",
      "                                                                 \n",
      " activation_5 (Activation)   (None, 16, 16, 64)        0         \n",
      "                                                                 \n",
      " max_pooling2d_5 (MaxPooling  (None, 8, 8, 64)         0         \n",
      " 2D)                                                             \n",
      "                                                                 \n",
      " flatten_1 (Flatten)         (None, 4096)              0         \n",
      "                                                                 \n",
      " dense_3 (Dense)             (None, 64)                262208    \n",
      "                                                                 \n",
      " dense_4 (Dense)             (None, 32)                2080      \n",
      "                                                                 \n",
      " dense_5 (Dense)             (None, 6)                 198       \n",
      "                                                                 \n",
      "=================================================================\n",
      "Total params: 340,134\n",
      "Trainable params: 340,134\n",
      "Non-trainable params: 0\n",
      "_________________________________________________________________\n",
      "None\n"
     ]
    }
   ],
   "source": [
    "def create_model():\n",
    "    model= Sequential([\n",
    "      Conv2D(filters=64, kernel_size= (3, 3), padding= \"same\",\n",
    "              \n",
    "      input_shape= (64, 64, 3)),\n",
    "      Activation('relu'),\n",
    "      MaxPooling2D(pool_size= (2, 2)),\n",
    "        \n",
    "      Conv2D(filters=64, kernel_size= (3, 3), padding= \"same\"),\n",
    "      Activation('relu'),\n",
    "      MaxPooling2D(pool_size= (2, 2)),\n",
    "               \n",
    "      Conv2D(filters=64, kernel_size= (3, 3), padding= \"same\"), \n",
    "      Activation('relu'),\n",
    "      MaxPooling2D(pool_size= (2, 2)),\n",
    "        \n",
    "      Flatten(),\n",
    "        \n",
    "      Dense(units= 64, activation= 'relu'),\n",
    "      Dense(units= 32, activation= 'relu'),\n",
    "      Dense(units= 6, activation= 'softmax')])\n",
    "    \n",
    "    return model\n",
    "\n",
    "baseline_model= create_model()\n",
    "print(baseline_model.summary())"
   ]
  },
  {
   "cell_type": "code",
   "execution_count": 10,
   "id": "5b6bad60",
   "metadata": {},
   "outputs": [],
   "source": [
    "optimizer= Adam(learning_rate= 0.001)\n",
    "baseline_model.compile(optimizer= optimizer, loss= CategoricalCrossentropy(), metrics= ['accuracy'])"
   ]
  },
  {
   "cell_type": "code",
   "execution_count": 11,
   "id": "33cad2e3",
   "metadata": {},
   "outputs": [
    {
     "name": "stdout",
     "output_type": "stream",
     "text": [
      "Epoch 1/30\n",
      "176/176 - 47s - loss: 1.1090 - accuracy: 0.5567 - val_loss: 0.9088 - val_accuracy: 0.6519 - 47s/epoch - 269ms/step\n",
      "Epoch 2/30\n",
      "176/176 - 60s - loss: 0.8027 - accuracy: 0.6976 - val_loss: 0.7420 - val_accuracy: 0.7315 - 60s/epoch - 343ms/step\n",
      "Epoch 3/30\n",
      "176/176 - 106s - loss: 0.6786 - accuracy: 0.7516 - val_loss: 0.6503 - val_accuracy: 0.7685 - 106s/epoch - 600ms/step\n",
      "Epoch 4/30\n",
      "176/176 - 148s - loss: 0.5846 - accuracy: 0.7909 - val_loss: 0.6049 - val_accuracy: 0.7882 - 148s/epoch - 843ms/step\n",
      "Epoch 5/30\n",
      "176/176 - 194s - loss: 0.5213 - accuracy: 0.8093 - val_loss: 0.5523 - val_accuracy: 0.8049 - 194s/epoch - 1s/step\n",
      "Epoch 6/30\n",
      "176/176 - 193s - loss: 0.4714 - accuracy: 0.8313 - val_loss: 0.5211 - val_accuracy: 0.8217 - 193s/epoch - 1s/step\n",
      "Epoch 7/30\n",
      "176/176 - 194s - loss: 0.4171 - accuracy: 0.8471 - val_loss: 0.5814 - val_accuracy: 0.7924 - 194s/epoch - 1s/step\n",
      "Epoch 8/30\n",
      "176/176 - 192s - loss: 0.3671 - accuracy: 0.8648 - val_loss: 0.5239 - val_accuracy: 0.8231 - 192s/epoch - 1s/step\n",
      "Epoch 9/30\n",
      "176/176 - 192s - loss: 0.3311 - accuracy: 0.8816 - val_loss: 0.5536 - val_accuracy: 0.8128 - 192s/epoch - 1s/step\n",
      "Epoch 10/30\n",
      "176/176 - 196s - loss: 0.2832 - accuracy: 0.8999 - val_loss: 0.6177 - val_accuracy: 0.7921 - 196s/epoch - 1s/step\n",
      "Epoch 11/30\n",
      "176/176 - 195s - loss: 0.2440 - accuracy: 0.9124 - val_loss: 0.6111 - val_accuracy: 0.8085 - 195s/epoch - 1s/step\n",
      "Epoch 12/30\n",
      "176/176 - 192s - loss: 0.2244 - accuracy: 0.9190 - val_loss: 0.6019 - val_accuracy: 0.8192 - 192s/epoch - 1s/step\n",
      "Epoch 13/30\n",
      "176/176 - 202s - loss: 0.1859 - accuracy: 0.9342 - val_loss: 0.6579 - val_accuracy: 0.8071 - 202s/epoch - 1s/step\n",
      "Epoch 14/30\n",
      "176/176 - 194s - loss: 0.1407 - accuracy: 0.9524 - val_loss: 0.7082 - val_accuracy: 0.8135 - 194s/epoch - 1s/step\n",
      "Epoch 15/30\n",
      "176/176 - 187s - loss: 0.1282 - accuracy: 0.9547 - val_loss: 0.7367 - val_accuracy: 0.8063 - 187s/epoch - 1s/step\n",
      "Epoch 16/30\n",
      "176/176 - 201s - loss: 0.1000 - accuracy: 0.9669 - val_loss: 0.8319 - val_accuracy: 0.7981 - 201s/epoch - 1s/step\n",
      "Epoch 17/30\n",
      "176/176 - 195s - loss: 0.0875 - accuracy: 0.9714 - val_loss: 0.8936 - val_accuracy: 0.8081 - 195s/epoch - 1s/step\n",
      "Epoch 18/30\n",
      "176/176 - 194s - loss: 0.0936 - accuracy: 0.9691 - val_loss: 0.9297 - val_accuracy: 0.8010 - 194s/epoch - 1s/step\n",
      "Epoch 19/30\n",
      "176/176 - 191s - loss: 0.0769 - accuracy: 0.9750 - val_loss: 0.9547 - val_accuracy: 0.8099 - 191s/epoch - 1s/step\n",
      "Epoch 20/30\n",
      "176/176 - 198s - loss: 0.0574 - accuracy: 0.9815 - val_loss: 1.1646 - val_accuracy: 0.7814 - 198s/epoch - 1s/step\n",
      "Epoch 21/30\n",
      "176/176 - 230s - loss: 0.0888 - accuracy: 0.9691 - val_loss: 0.9574 - val_accuracy: 0.8142 - 230s/epoch - 1s/step\n",
      "Epoch 22/30\n",
      "176/176 - 258s - loss: 0.0719 - accuracy: 0.9752 - val_loss: 1.0876 - val_accuracy: 0.8003 - 258s/epoch - 1s/step\n",
      "Epoch 23/30\n",
      "176/176 - 269s - loss: 0.0382 - accuracy: 0.9882 - val_loss: 1.0907 - val_accuracy: 0.8138 - 269s/epoch - 2s/step\n",
      "Epoch 24/30\n",
      "176/176 - 261s - loss: 0.0536 - accuracy: 0.9828 - val_loss: 1.0941 - val_accuracy: 0.7914 - 261s/epoch - 1s/step\n",
      "Epoch 25/30\n",
      "176/176 - 262s - loss: 0.0419 - accuracy: 0.9858 - val_loss: 1.1296 - val_accuracy: 0.8067 - 262s/epoch - 1s/step\n",
      "Epoch 26/30\n",
      "176/176 - 257s - loss: 0.0334 - accuracy: 0.9904 - val_loss: 1.3244 - val_accuracy: 0.7946 - 257s/epoch - 1s/step\n",
      "Epoch 27/30\n",
      "176/176 - 267s - loss: 0.0358 - accuracy: 0.9896 - val_loss: 1.3515 - val_accuracy: 0.7753 - 267s/epoch - 2s/step\n",
      "Epoch 28/30\n",
      "176/176 - 263s - loss: 0.0678 - accuracy: 0.9772 - val_loss: 1.2227 - val_accuracy: 0.7956 - 263s/epoch - 1s/step\n",
      "Epoch 29/30\n",
      "176/176 - 257s - loss: 0.0569 - accuracy: 0.9809 - val_loss: 1.1553 - val_accuracy: 0.8174 - 257s/epoch - 1s/step\n",
      "Epoch 30/30\n",
      "176/176 - 276s - loss: 0.0345 - accuracy: 0.9886 - val_loss: 1.2705 - val_accuracy: 0.7999 - 276s/epoch - 2s/step\n"
     ]
    }
   ],
   "source": [
    "baseline= baseline_model.fit(train_data, epochs=40, batch_size= 32, validation_data=val_data,\n",
    "                       verbose=2)"
   ]
  },
  {
   "cell_type": "code",
   "execution_count": 15,
   "id": "66a5da5f",
   "metadata": {},
   "outputs": [
    {
     "data": {
      "image/png": "[encoded data removed]",
      "text/plain": [
       "<Figure size 432x288 with 1 Axes>"
      ]
     },
     "metadata": {
      "needs_background": "light"
     },
     "output_type": "display_data"
    }
   ],
   "source": [
    "plot.plot(baseline.history['accuracy'])\n",
    "plot.plot(baseline.history['val_accuracy'])\n",
    "plot.title('Model accuracy versus epochs')\n",
    "plot.ylabel('Accuracy')\n",
    "plot.xlabel('# Epoch')\n",
    "plot.legend(['Train', 'Validation'], loc= 'upper left')\n",
    "plot.show()"
   ]
  },
  {
   "cell_type": "code",
   "execution_count": 16,
   "id": "c473f577",
   "metadata": {},
   "outputs": [
    {
     "data": {
      "image/png": "[encoded data removed]",
      "text/plain": [
       "<Figure size 432x288 with 1 Axes>"
      ]
     },
     "metadata": {
      "needs_background": "light"
     },
     "output_type": "display_data"
    }
   ],
   "source": [
    "plot.plot(baseline.history['loss'])\n",
    "plot.plot(baseline.history['val_loss'])\n",
    "plot.title('Model loss versus epochs')\n",
    "plot.ylabel('Loss')\n",
    "plot.xlabel('# Epoch')\n",
    "plot.legend(['Train', 'Validation'], loc='upper left')\n",
    "plot.show()"
   ]
  },
  {
   "cell_type": "code",
   "execution_count": 17,
   "id": "883e4a72",
   "metadata": {},
   "outputs": [
    {
     "name": "stdout",
     "output_type": "stream",
     "text": [
      "47/47 [==============================] - 17s 365ms/step - loss: 1.2581 - accuracy: 0.8080\n"
     ]
    }
   ],
   "source": [
    "test_loss, test_accuracy = baseline_model.evaluate(test_data, batch_size= 128)"
   ]
  },
  {
   "cell_type": "code",
   "execution_count": 18,
   "id": "0a003bb5",
   "metadata": {},
   "outputs": [
    {
     "name": "stdout",
     "output_type": "stream",
     "text": [
      "47/47 [==============================] - 14s 284ms/step\n"
     ]
    }
   ],
   "source": [
    "test_prediction = baseline_model.predict(test_data)\n",
    "y_pred = np.argmax(test_prediction, axis=1)\n",
    "y_true = test_data.classes"
   ]
  },
  {
   "cell_type": "code",
   "execution_count": 19,
   "id": "8c83f2af",
   "metadata": {
    "scrolled": true
   },
   "outputs": [
    {
     "data": {
      "image/png": "[encoded data removed]",
      "text/plain": [
       "<Figure size 432x288 with 2 Axes>"
      ]
     },
     "metadata": {
      "needs_background": "light"
     },
     "output_type": "display_data"
    }
   ],
   "source": [
    "C_M= confusion_matrix(y_true, y_pred)\n",
    "ax= plot.axes()\n",
    "sns.heatmap(C_M, annot= True, fmt = \"d\", xticklabels= labels.values(), yticklabels= labels.values(), ax= ax)\n",
    "ax.set_title('Confusion matrix')\n",
    "plot.show()"
   ]
  },
  {
   "cell_type": "code",
   "execution_count": null,
   "id": "5eea6a43",
   "metadata": {},
   "outputs": [],
   "source": [
    "from sklearn.metrics import precision_recall_fscore_support\n",
    "import pandas as pd\n",
    "\n",
    "res = []\n",
    "for l in [0,1,2,3,4,5]:\n",
    "    prec,recall,_,_ = precision_recall_fscore_support(np.array(y_true)==l,\n",
    "                                                      np.array(y_pred)==l,\n",
    "                                                      pos_label=True,average=None)\n",
    "    res.append([l,recall[0],recall[1]])\n",
    "    \n",
    "\n",
    "pd.DataFrame(res,columns = ['class','sensitivity','specificity'])"
   ]
  },
  {
   "cell_type": "code",
   "execution_count": 20,
   "id": "ff75ad78",
   "metadata": {},
   "outputs": [
    {
     "name": "stdout",
     "output_type": "stream",
     "text": [
      "ROC AUC Score:  0.9628524540185449\n"
     ]
    }
   ],
   "source": [
    "from sklearn.metrics import roc_auc_score \n",
    "\n",
    "y_pred = np.argmax(test_prediction, axis=0)\n",
    "print(roc_auc_score(y_true, test_prediction, multi_class='ovr'))"
   ]
  },
  {
   "cell_type": "code",
   "execution_count": 23,
   "id": "3476d3c6",
   "metadata": {},
   "outputs": [],
   "source": [
    "from sklearn.preprocessing import label_binarize\n",
    "\n",
    "y_train = train_data.classes\n",
    "y_test = test_data.classes\n",
    "\n",
    "actual_test_labels= test_data.classes\n",
    "actual_test_labels= label_binarize(y_test, classes=[0, 1, 2, 3, 4, 5])\n",
    "possible_classes= actual_test_labels.shape[1]\n"
   ]
  },
  {
   "cell_type": "code",
   "execution_count": 24,
   "id": "be87c5a2",
   "metadata": {},
   "outputs": [],
   "source": [
    "from sklearn.metrics import roc_curve, auc\n",
    "import seaborn as sns\n",
    "%matplotlib inline\n",
    "\n",
    "fp_rates= dict()\n",
    "tp_rates= dict()\n",
    "roc_auc= dict()\n",
    "for i in range(possible_classes):\n",
    "    fp_rates[i], tp_rates[i], _= roc_curve(actual_test_labels[:, i], test_prediction[:, i])\n",
    "    roc_auc[i]= auc(fp_rates[i], tp_rates[i])"
   ]
  },
  {
   "cell_type": "code",
   "execution_count": 25,
   "id": "e59fd0cb",
   "metadata": {},
   "outputs": [],
   "source": [
    "fp_rates[\"micro\"], tp_rates[\"micro\"], _ = roc_curve(actual_test_labels.ravel(), test_prediction.ravel())\n",
    "roc_auc[\"micro\"]= auc(fp_rates[\"micro\"], tp_rates[\"micro\"])\n",
    "\n",
    "all_fp_rates= np.unique(np.concatenate([fp_rates[i] for i in range(possible_classes)]))\n",
    "\n",
    "mean_tp_rates= np.zeros_like(all_fp_rates)\n",
    "for i in range(possible_classes):\n",
    "    mean_tp_rates += np.interp(all_fp_rates, fp_rates[i], tp_rates[i])"
   ]
  },
  {
   "cell_type": "code",
   "execution_count": 26,
   "id": "9e5d516c",
   "metadata": {},
   "outputs": [],
   "source": [
    "mean_tp_rates /= possible_classes\n",
    "\n",
    "fp_rates[\"macro\"]= all_fp_rates\n",
    "tp_rates[\"macro\"]= mean_tp_rates\n",
    "roc_auc[\"macro\"]= auc(fp_rates[\"macro\"], tp_rates[\"macro\"])"
   ]
  },
  {
   "cell_type": "code",
   "execution_count": 27,
   "id": "ec637569",
   "metadata": {},
   "outputs": [
    {
     "data": {
      "image/png": "[encoded data removed]",
      "text/plain": [
       "<Figure size 432x288 with 1 Axes>"
      ]
     },
     "metadata": {
      "needs_background": "light"
     },
     "output_type": "display_data"
    }
   ],
   "source": [
    "from itertools import cycle\n",
    "\n",
    "plot.figure()\n",
    "plot.plot(\n",
    "    fp_rates[\"micro\"],\n",
    "    tp_rates[\"micro\"],\n",
    "    label= \"micro-average ROC curve (area = {0:0.2f})\".format(roc_auc[\"micro\"]),\n",
    "    color= \"darkviolet\",\n",
    "    linewidth=3,\n",
    "    linestyle= \":\",)\n",
    "\n",
    "plot.plot(\n",
    "    fp_rates[\"macro\"],\n",
    "    tp_rates[\"macro\"],\n",
    "    label= \"macro-average ROC curve (area = {0:0.2f})\".format(roc_auc[\"macro\"]),\n",
    "    color= \"darkblue\",\n",
    "    linewidth=3,\n",
    "    linestyle= \":\",)\n",
    "\n",
    "colors= cycle([\"aquamarine\", \"chocolate\", \"navy\", \"gold\", \"olivedrab\", \"fuchsia\"])\n",
    "for i, color in zip(range(possible_classes), colors):\n",
    "    plot.plot(\n",
    "        fp_rates[i],\n",
    "        tp_rates[i],\n",
    "        color= color,\n",
    "        label= \"ROC curve of class {0} (area = {1:0.2f})\".format(i, roc_auc[i]), )\n",
    "\n",
    "plot.plot([0, 1], [0, 1], \"k--\")\n",
    "plot.xlabel(\"False Positive Rate\")\n",
    "plot.ylabel(\"True Positive Rate\")\n",
    "plot.legend()\n",
    "plot.show()"
   ]
  },
  {
   "cell_type": "markdown",
   "id": "823128b8",
   "metadata": {},
   "source": [
    "# Tuned model"
   ]
  },
  {
   "cell_type": "code",
   "execution_count": null,
   "id": "636c8c87",
   "metadata": {},
   "outputs": [],
   "source": [
    "from tensorflow import keras\n",
    "from tensorflow.keras import regularizers\n",
    "from tensorflow.keras import layers\n",
    "from tensorflow.keras import models\n",
    "from tensorflow.keras import regularizers\n",
    "from tensorflow.keras.layers import Dense, Dropout, Flatten, Conv2D, MaxPool2D, MaxPooling2D, BatchNormalization\n",
    "\n",
    "### Main model: best performing model in terms of accuracy and loss\n",
    "\n",
    "tuned_model = keras.Sequential()\n",
    "tuned_model.add(keras.layers.Conv2D(64, (3, 3), activation='relu', input_shape = (64, 64, 3), padding = 'same'))\n",
    "tuned_model.add(BatchNormalization())\n",
    "tuned_model.add(keras.layers.MaxPooling2D((2, 2), strides = 2))\n",
    "\n",
    "tuned_model.add(keras.layers.Conv2D(64, (3, 3), activation='relu', padding = 'same'))\n",
    "tuned_model.add(BatchNormalization())\n",
    "tuned_model.add(keras.layers.MaxPooling2D((2, 2), strides = 2))\n",
    "\n",
    "tuned_model.add(keras.layers.Conv2D(64, (3, 3), activation='relu', padding = 'same'))\n",
    "tuned_model.add(BatchNormalization())\n",
    "tuned_model.add(keras.layers.MaxPooling2D((2, 2), strides = 2))\n",
    "\n",
    "tuned_model.add(keras.layers.Flatten())\n",
    "\n",
    "tuned_model.add(keras.layers.Dense(32, activation = 'relu', kernel_regularizer=regularizers.L1L2(l1=0.001, l2=0.001)))\n",
    "tuned_model.add(BatchNormalization())\n",
    "tuned_model.add(Dropout(0.45))\n",
    "tuned_model.add(keras.layers.Dense(6, activation = 'softmax'))\n",
    "\n",
    "tuned_model.summary()"
   ]
  },
  {
   "cell_type": "code",
   "execution_count": 7,
   "id": "6f91d3e6",
   "metadata": {},
   "outputs": [
    {
     "name": "stdout",
     "output_type": "stream",
     "text": [
      "Model: \"sequential\"\n",
      "_________________________________________________________________\n",
      " Layer (type)                Output Shape              Param #   \n",
      "=================================================================\n",
      " conv2d (Conv2D)             (None, 64, 64, 64)        1792      \n",
      "                                                                 \n",
      " max_pooling2d (MaxPooling2D  (None, 32, 32, 64)       0         \n",
      " )                                                               \n",
      "                                                                 \n",
      " conv2d_1 (Conv2D)           (None, 32, 32, 64)        36928     \n",
      "                                                                 \n",
      " max_pooling2d_1 (MaxPooling  (None, 16, 16, 64)       0         \n",
      " 2D)                                                             \n",
      "                                                                 \n",
      " conv2d_2 (Conv2D)           (None, 16, 16, 64)        36928     \n",
      "                                                                 \n",
      " max_pooling2d_2 (MaxPooling  (None, 8, 8, 64)         0         \n",
      " 2D)                                                             \n",
      "                                                                 \n",
      " flatten (Flatten)           (None, 4096)              0         \n",
      "                                                                 \n",
      " dense (Dense)               (None, 64)                262208    \n",
      "                                                                 \n",
      " dropout (Dropout)           (None, 64)                0         \n",
      "                                                                 \n",
      " dense_1 (Dense)             (None, 6)                 390       \n",
      "                                                                 \n",
      "=================================================================\n",
      "Total params: 338,246\n",
      "Trainable params: 338,246\n",
      "Non-trainable params: 0\n",
      "_________________________________________________________________\n"
     ]
    }
   ],
   "source": [
    "### Best model in terms of fitting\n",
    "\n",
    "#tuned_model = keras.Sequential()\n",
    "\n",
    "#tuned_model.add(layers.Conv2D(64, (3, 3), activation='relu', input_shape = (64, 64, 3), padding = 'same'))\n",
    "#tuned_model.add(layers.MaxPooling2D((2, 2), strides =2, padding = 'same', ))\n",
    "\n",
    "#tuned_model.add(layers.Conv2D(64, (3, 3), activation='relu', padding = 'same'))\n",
    "#tuned_model.add(layers.MaxPooling2D((2, 2), strides =2, padding = 'same'))\n",
    "\n",
    "#tuned_model.add(layers.Conv2D(64, (3, 3), activation='relu', padding = 'same', ))\n",
    "#tuned_model.add(layers.MaxPooling2D((2, 2) , strides =2, padding = 'same'))\n",
    "\n",
    "#tuned_model.add(layers.Flatten())\n",
    "#tuned_model.add(layers.Dense(64, activation = 'relu', kernel_regularizer=regularizers.L1L2(l1=0.001, l2=0.001)))\n",
    "#tuned_model.add(Dropout(0.45))\n",
    "#tuned_model.add(layers.Dense(6, activation = 'softmax'))\n",
    "\n",
    "#tuned_model.summary()"
   ]
  },
  {
   "cell_type": "code",
   "execution_count": 8,
   "id": "722e5465",
   "metadata": {},
   "outputs": [],
   "source": [
    "reduce_lr = ReduceLROnPlateau( monitor= 'val_loss', patience= 2)            \n",
    "early_stopping = tf.keras.callbacks.EarlyStopping(patience=10)"
   ]
  },
  {
   "cell_type": "code",
   "execution_count": 9,
   "id": "66d2d53e",
   "metadata": {},
   "outputs": [],
   "source": [
    "from tensorflow.keras.optimizers import RMSprop\n",
    "\n",
    "optimizer= Adam( learning_rate= 0.001 )\n",
    "#optimizer= RMSprop( learning_rate = 0.001)\n",
    "\n",
    "tuned_model.compile( optimizer= optimizer, loss = CategoricalCrossentropy(), metrics= ['accuracy'] )"
   ]
  },
  {
   "cell_type": "code",
   "execution_count": 10,
   "id": "e5cd4526",
   "metadata": {},
   "outputs": [
    {
     "name": "stdout",
     "output_type": "stream",
     "text": [
      "Epoch 1/40\n",
      "176/176 - 154s - loss: 2.0010 - accuracy: 0.4839 - val_loss: 1.2327 - val_accuracy: 0.5952 - lr: 0.0010 - 154s/epoch - 874ms/step\n",
      "Epoch 2/40\n",
      "176/176 - 148s - loss: 1.2356 - accuracy: 0.5858 - val_loss: 1.1583 - val_accuracy: 0.6216 - lr: 0.0010 - 148s/epoch - 839ms/step\n",
      "Epoch 3/40\n",
      "176/176 - 149s - loss: 1.1419 - accuracy: 0.6291 - val_loss: 1.1001 - val_accuracy: 0.6530 - lr: 0.0010 - 149s/epoch - 848ms/step\n",
      "Epoch 4/40\n",
      "176/176 - 149s - loss: 1.0879 - accuracy: 0.6619 - val_loss: 0.9714 - val_accuracy: 0.7175 - lr: 0.0010 - 149s/epoch - 847ms/step\n",
      "Epoch 5/40\n",
      "176/176 - 152s - loss: 1.0393 - accuracy: 0.6830 - val_loss: 0.9542 - val_accuracy: 0.7193 - lr: 0.0010 - 152s/epoch - 864ms/step\n",
      "Epoch 6/40\n",
      "176/176 - 152s - loss: 0.9966 - accuracy: 0.6992 - val_loss: 0.9448 - val_accuracy: 0.7315 - lr: 0.0010 - 152s/epoch - 866ms/step\n",
      "Epoch 7/40\n",
      "176/176 - 150s - loss: 0.9723 - accuracy: 0.7158 - val_loss: 0.8846 - val_accuracy: 0.7432 - lr: 0.0010 - 150s/epoch - 850ms/step\n",
      "Epoch 8/40\n",
      "176/176 - 152s - loss: 0.9142 - accuracy: 0.7382 - val_loss: 0.9061 - val_accuracy: 0.7336 - lr: 0.0010 - 152s/epoch - 863ms/step\n",
      "Epoch 9/40\n",
      "176/176 - 146s - loss: 0.8874 - accuracy: 0.7496 - val_loss: 0.8400 - val_accuracy: 0.7714 - lr: 0.0010 - 146s/epoch - 831ms/step\n",
      "Epoch 10/40\n",
      "176/176 - 154s - loss: 0.8794 - accuracy: 0.7594 - val_loss: 0.7888 - val_accuracy: 0.7921 - lr: 0.0010 - 154s/epoch - 875ms/step\n",
      "Epoch 11/40\n",
      "176/176 - 149s - loss: 0.8459 - accuracy: 0.7662 - val_loss: 0.8508 - val_accuracy: 0.7618 - lr: 0.0010 - 149s/epoch - 845ms/step\n",
      "Epoch 12/40\n",
      "176/176 - 147s - loss: 0.8261 - accuracy: 0.7780 - val_loss: 0.7434 - val_accuracy: 0.8003 - lr: 0.0010 - 147s/epoch - 838ms/step\n",
      "Epoch 13/40\n",
      "176/176 - 153s - loss: 0.8263 - accuracy: 0.7751 - val_loss: 0.8042 - val_accuracy: 0.7828 - lr: 0.0010 - 153s/epoch - 871ms/step\n",
      "Epoch 14/40\n",
      "176/176 - 147s - loss: 0.8009 - accuracy: 0.7850 - val_loss: 0.7924 - val_accuracy: 0.7860 - lr: 0.0010 - 147s/epoch - 837ms/step\n",
      "Epoch 15/40\n",
      "176/176 - 148s - loss: 0.6897 - accuracy: 0.8141 - val_loss: 0.6649 - val_accuracy: 0.8199 - lr: 1.0000e-04 - 148s/epoch - 843ms/step\n",
      "Epoch 16/40\n",
      "176/176 - 150s - loss: 0.6587 - accuracy: 0.8191 - val_loss: 0.6524 - val_accuracy: 0.8174 - lr: 1.0000e-04 - 150s/epoch - 850ms/step\n",
      "Epoch 17/40\n",
      "176/176 - 153s - loss: 0.6538 - accuracy: 0.8187 - val_loss: 0.6427 - val_accuracy: 0.8174 - lr: 1.0000e-04 - 153s/epoch - 871ms/step\n",
      "Epoch 18/40\n",
      "176/176 - 152s - loss: 0.6413 - accuracy: 0.8180 - val_loss: 0.6360 - val_accuracy: 0.8178 - lr: 1.0000e-04 - 152s/epoch - 861ms/step\n",
      "Epoch 19/40\n",
      "176/176 - 151s - loss: 0.6391 - accuracy: 0.8200 - val_loss: 0.6319 - val_accuracy: 0.8185 - lr: 1.0000e-04 - 151s/epoch - 857ms/step\n",
      "Epoch 20/40\n",
      "176/176 - 155s - loss: 0.6310 - accuracy: 0.8224 - val_loss: 0.6291 - val_accuracy: 0.8163 - lr: 1.0000e-04 - 155s/epoch - 880ms/step\n",
      "Epoch 21/40\n",
      "176/176 - 123s - loss: 0.6247 - accuracy: 0.8258 - val_loss: 0.6266 - val_accuracy: 0.8188 - lr: 1.0000e-04 - 123s/epoch - 699ms/step\n",
      "Epoch 22/40\n",
      "176/176 - 101s - loss: 0.6236 - accuracy: 0.8241 - val_loss: 0.6206 - val_accuracy: 0.8203 - lr: 1.0000e-04 - 101s/epoch - 573ms/step\n",
      "Epoch 23/40\n",
      "176/176 - 101s - loss: 0.6268 - accuracy: 0.8246 - val_loss: 0.6230 - val_accuracy: 0.8167 - lr: 1.0000e-04 - 101s/epoch - 573ms/step\n",
      "Epoch 24/40\n",
      "176/176 - 98s - loss: 0.6207 - accuracy: 0.8238 - val_loss: 0.6248 - val_accuracy: 0.8131 - lr: 1.0000e-04 - 98s/epoch - 555ms/step\n",
      "Epoch 25/40\n",
      "176/176 - 98s - loss: 0.6043 - accuracy: 0.8333 - val_loss: 0.6088 - val_accuracy: 0.8213 - lr: 1.0000e-05 - 98s/epoch - 557ms/step\n",
      "Epoch 26/40\n",
      "176/176 - 101s - loss: 0.5998 - accuracy: 0.8302 - val_loss: 0.6070 - val_accuracy: 0.8217 - lr: 1.0000e-05 - 101s/epoch - 576ms/step\n",
      "Epoch 27/40\n",
      "176/176 - 99s - loss: 0.5913 - accuracy: 0.8326 - val_loss: 0.6057 - val_accuracy: 0.8235 - lr: 1.0000e-05 - 99s/epoch - 562ms/step\n",
      "Epoch 28/40\n",
      "176/176 - 87s - loss: 0.5968 - accuracy: 0.8304 - val_loss: 0.6053 - val_accuracy: 0.8245 - lr: 1.0000e-05 - 87s/epoch - 494ms/step\n",
      "Epoch 29/40\n",
      "176/176 - 54s - loss: 0.5997 - accuracy: 0.8280 - val_loss: 0.6053 - val_accuracy: 0.8206 - lr: 1.0000e-05 - 54s/epoch - 308ms/step\n",
      "Epoch 30/40\n",
      "176/176 - 54s - loss: 0.5910 - accuracy: 0.8329 - val_loss: 0.6051 - val_accuracy: 0.8217 - lr: 1.0000e-05 - 54s/epoch - 304ms/step\n",
      "Epoch 31/40\n",
      "176/176 - 54s - loss: 0.5943 - accuracy: 0.8343 - val_loss: 0.6048 - val_accuracy: 0.8217 - lr: 1.0000e-05 - 54s/epoch - 305ms/step\n",
      "Epoch 32/40\n",
      "176/176 - 54s - loss: 0.5922 - accuracy: 0.8311 - val_loss: 0.6039 - val_accuracy: 0.8224 - lr: 1.0000e-05 - 54s/epoch - 304ms/step\n",
      "Epoch 33/40\n",
      "176/176 - 54s - loss: 0.5922 - accuracy: 0.8299 - val_loss: 0.6030 - val_accuracy: 0.8224 - lr: 1.0000e-05 - 54s/epoch - 304ms/step\n",
      "Epoch 34/40\n",
      "176/176 - 54s - loss: 0.5963 - accuracy: 0.8281 - val_loss: 0.6043 - val_accuracy: 0.8199 - lr: 1.0000e-05 - 54s/epoch - 307ms/step\n",
      "Epoch 35/40\n",
      "176/176 - 53s - loss: 0.5918 - accuracy: 0.8339 - val_loss: 0.6032 - val_accuracy: 0.8220 - lr: 1.0000e-05 - 53s/epoch - 304ms/step\n",
      "Epoch 36/40\n",
      "176/176 - 54s - loss: 0.5857 - accuracy: 0.8305 - val_loss: 0.6025 - val_accuracy: 0.8224 - lr: 1.0000e-06 - 54s/epoch - 304ms/step\n",
      "Epoch 37/40\n",
      "176/176 - 54s - loss: 0.5910 - accuracy: 0.8301 - val_loss: 0.6021 - val_accuracy: 0.8213 - lr: 1.0000e-06 - 54s/epoch - 304ms/step\n",
      "Epoch 38/40\n",
      "176/176 - 53s - loss: 0.5812 - accuracy: 0.8351 - val_loss: 0.6019 - val_accuracy: 0.8220 - lr: 1.0000e-06 - 53s/epoch - 303ms/step\n",
      "Epoch 39/40\n",
      "176/176 - 54s - loss: 0.5886 - accuracy: 0.8309 - val_loss: 0.6018 - val_accuracy: 0.8210 - lr: 1.0000e-06 - 54s/epoch - 306ms/step\n",
      "Epoch 40/40\n",
      "176/176 - 53s - loss: 0.5911 - accuracy: 0.8321 - val_loss: 0.6017 - val_accuracy: 0.8217 - lr: 1.0000e-06 - 53s/epoch - 304ms/step\n"
     ]
    }
   ],
   "source": [
    "tuned= tuned_model.fit(train_data, epochs= 40, batch_size= 32, validation_data= val_data,\n",
    "                       verbose = 2, \n",
    "                       callbacks=[early_stopping, reduce_lr])"
   ]
  },
  {
   "cell_type": "code",
   "execution_count": null,
   "id": "fa550d2c",
   "metadata": {},
   "outputs": [],
   "source": [
    "### Creating an expanded training dataset that contains the training- and validation data\n",
    "\n",
    "#image_generator2 = ImageDataGenerator(rescale=1/255)\n",
    "\n",
    "#train_data_large = image_generator.flow_from_directory(batch_size=64,\n",
    "#                                                 directory=train_data_dir,\n",
    "#                                                 shuffle=True,\n",
    "#                                                 target_size=(64,64), \n",
    "#                                                 #subset=\"training\",\n",
    "#                                                 class_mode='categorical')\n",
    "\n",
    "### training the model on the expanded training set\n",
    "\n",
    "#tuned= tuned_model.fit(train_data, epochs= 40, batch_size= 32, validation_data= val_data,\n",
    "#                       verbose = 2, \n",
    "#                       callbacks=[early_stopping, reduce_lr])\n",
    "\n",
    "### making plots of the model\n",
    "#plot.plot(tuned.history['accuracy'])\n",
    "#plot.title('Model accuracy versus epochs')\n",
    "#plot.ylabel('Accuracy')\n",
    "#plot.xlabel('# Epoch')\n",
    "#plot.legend(['Train'], loc='upper left')\n",
    "#plot.show()\n",
    "\n",
    "#plot.plot(tuned.history['loss'])\n",
    "#plot.title('Model loss versus epochs')\n",
    "#plot.ylabel('Loss')\n",
    "#plot.xlabel('# Epoch')\n",
    "#plot.legend(['Train'], loc='upper left')\n",
    "#plot.show()\n",
    "\n",
    "\n",
    "### training the model on the expanded training set\n",
    "# test_loss, test_accuracy = tuned_model.evaluate(test_data, batch_size= 64)\n",
    "\n",
    "#test_prediction = tuned_model.predict(test_data)\n",
    "\n",
    "#y_pred = np.argmax(test_prediction, axis=1)\n",
    "#y_true = test_data.classes\n",
    "\n",
    "#C_M= confusion_matrix(y_true, y_pred)\n",
    "#ax= plot.axes()\n",
    "#sns.heatmap(C_M, annot= True, fmt = \"d\", xticklabels= labels.values(), yticklabels= labels.values(), ax= ax)\n",
    "#ax.set_title('Confusion matrix')\n",
    "#plot.show()\n",
    "\n",
    "#mean_tp_rates /= possible_classes\n",
    "\n",
    "#fp_rates[\"macro\"]= all_fp_rates\n",
    "#tp_rates[\"macro\"]= mean_tp_rates\n",
    "#roc_auc[\"macro\"]= auc(fp_rates[\"macro\"], tp_rates[\"macro\"])\n",
    "\n",
    "#plot.figure()\n",
    "#plot.plot(\n",
    "#    fp_rates[\"micro\"],\n",
    "#    tp_rates[\"micro\"],\n",
    "#    label= \"micro-average ROC curve (area = {0:0.2f})\".format(roc_auc[\"micro\"]),\n",
    "#    color= \"darkviolet\",\n",
    "#    linewidth=3,\n",
    "#    linestyle= \":\",)\n",
    "\n",
    "#plot.plot(\n",
    "#    fp_rates[\"macro\"],\n",
    "#    tp_rates[\"macro\"],\n",
    "#    label= \"macro-average ROC curve (area = {0:0.2f})\".format(roc_auc[\"macro\"]),\n",
    "#    color= \"darkblue\",\n",
    "#    linewidth=3,\n",
    "#    linestyle= \":\",)\n",
    "\n",
    "#colors= cycle([\"aquamarine\", \"chocolate\", \"navy\", \"gold\", \"olivedrab\", \"fuchsia\"])\n",
    "#for i, color in zip(range(possible_classes), colors):\n",
    "#    plot.plot(\n",
    "#        fp_rates[i],\n",
    "#        tp_rates[i],\n",
    "#        color= color,\n",
    "#        label= \"ROC curve of class {0} (area = {1:0.2f})\".format(i, roc_auc[i]), )\n",
    "\n",
    "#plot.plot([0, 1], [0, 1], \"k--\")\n",
    "#plot.xlabel(\"False Positive Rate\")\n",
    "#plot.ylabel(\"True Positive Rate\")\n",
    "#plot.legend()\n",
    "#plot.show()"
   ]
  },
  {
   "cell_type": "code",
   "execution_count": 11,
   "id": "3f766ce4",
   "metadata": {},
   "outputs": [
    {
     "data": {
      "image/png": "[encoded data removed]",
      "text/plain": [
       "<Figure size 432x288 with 1 Axes>"
      ]
     },
     "metadata": {
      "needs_background": "light"
     },
     "output_type": "display_data"
    }
   ],
   "source": [
    "plot.plot(baseline.history['accuracy'])\n",
    "plot.plot(baseline.history['val_accuracy'])\n",
    "plot.title('Model accuracy versus epochs')\n",
    "plot.ylabel('Accuracy')\n",
    "plot.xlabel('# Epoch')\n",
    "plot.legend(['Train', 'Validation'], loc= 'upper left')\n",
    "plot.show()"
   ]
  },
  {
   "cell_type": "code",
   "execution_count": 12,
   "id": "41aa23e9",
   "metadata": {},
   "outputs": [
    {
     "data": {
      "image/png": "[encoded data removed]",
      "text/plain": [
       "<Figure size 432x288 with 1 Axes>"
      ]
     },
     "metadata": {
      "needs_background": "light"
     },
     "output_type": "display_data"
    }
   ],
   "source": [
    "plot.plot(baseline.history['loss'])\n",
    "plot.plot(baseline.history['val_loss'])\n",
    "plot.title('Model loss versus epochs')\n",
    "plot.ylabel('Loss')\n",
    "plot.xlabel('# Epoch')\n",
    "plot.legend(['Train', 'Validation'], loc='upper left')\n",
    "plot.show()"
   ]
  },
  {
   "cell_type": "code",
   "execution_count": 13,
   "id": "8fdfbd2a",
   "metadata": {},
   "outputs": [
    {
     "name": "stdout",
     "output_type": "stream",
     "text": [
      "47/47 [==============================] - 5s 106ms/step - loss: 0.6014 - accuracy: 0.8253\n"
     ]
    }
   ],
   "source": [
    "test_loss, test_accuracy = tuned_model.evaluate(test_data, batch_size= 64)"
   ]
  },
  {
   "cell_type": "code",
   "execution_count": 16,
   "id": "6534f578",
   "metadata": {},
   "outputs": [
    {
     "name": "stdout",
     "output_type": "stream",
     "text": [
      "47/47 [==============================] - 6s 129ms/step\n"
     ]
    },
    {
     "data": {
      "image/png": "[encoded data removed]",
      "text/plain": [
       "<Figure size 432x288 with 2 Axes>"
      ]
     },
     "metadata": {
      "needs_background": "light"
     },
     "output_type": "display_data"
    }
   ],
   "source": [
    "test_prediction = tuned_model.predict(test_data)\n",
    "\n",
    "y_pred = np.argmax(test_prediction, axis=1)\n",
    "y_true = test_data.classes\n",
    "\n",
    "C_M= confusion_matrix(y_true, y_pred)\n",
    "ax= plot.axes()\n",
    "sns.heatmap(C_M, annot= True, fmt = \"d\", xticklabels= labels.values(), yticklabels= labels.values(), ax= ax)\n",
    "ax.set_title('Confusion matrix')\n",
    "plot.show()"
   ]
  },
  {
   "cell_type": "code",
   "execution_count": 2,
   "id": "0fd02aca",
   "metadata": {},
   "outputs": [
    {
     "ename": "NameError",
     "evalue": "name 'np' is not defined",
     "output_type": "error",
     "traceback": [
      "\u001b[1;31m---------------------------------------------------------------------------\u001b[0m",
      "\u001b[1;31mNameError\u001b[0m                                 Traceback (most recent call last)",
      "\u001b[1;32m<ipython-input-2-8fac98d5205e>\u001b[0m in \u001b[0;36m<module>\u001b[1;34m\u001b[0m\n\u001b[1;32m----> 1\u001b[1;33m \u001b[0my_pred\u001b[0m \u001b[1;33m=\u001b[0m \u001b[0mnp\u001b[0m\u001b[1;33m.\u001b[0m\u001b[0margmax\u001b[0m\u001b[1;33m(\u001b[0m\u001b[0mtest_prediction\u001b[0m\u001b[1;33m,\u001b[0m \u001b[0maxis\u001b[0m\u001b[1;33m=\u001b[0m\u001b[1;36m0\u001b[0m\u001b[1;33m)\u001b[0m\u001b[1;33m\u001b[0m\u001b[1;33m\u001b[0m\u001b[0m\n\u001b[0m\u001b[0;32m      2\u001b[0m \u001b[0mprint\u001b[0m\u001b[1;33m(\u001b[0m\u001b[0mroc_auc_score\u001b[0m\u001b[1;33m(\u001b[0m\u001b[0my_true\u001b[0m\u001b[1;33m,\u001b[0m \u001b[0mtest_prediction\u001b[0m\u001b[1;33m,\u001b[0m \u001b[0mmulti_class\u001b[0m\u001b[1;33m=\u001b[0m\u001b[1;34m'ovr'\u001b[0m\u001b[1;33m)\u001b[0m\u001b[1;33m)\u001b[0m\u001b[1;33m\u001b[0m\u001b[1;33m\u001b[0m\u001b[0m\n",
      "\u001b[1;31mNameError\u001b[0m: name 'np' is not defined"
     ]
    }
   ],
   "source": [
    "y_pred = np.argmax(test_prediction, axis=0)\n",
    "print(roc_auc_score(y_true, test_prediction, multi_class='ovr'))"
   ]
  },
  {
   "cell_type": "code",
   "execution_count": null,
   "id": "73afacc4",
   "metadata": {},
   "outputs": [],
   "source": [
    "from sklearn.metrics import precision_recall_fscore_support\n",
    "import pandas as pd\n",
    "\n",
    "res = []\n",
    "for l in [0,1,2,3,4,5]:\n",
    "    prec,recall,_,_ = precision_recall_fscore_support(np.array(y_true)==l,\n",
    "                                                      np.array(y_pred)==l,\n",
    "                                                      pos_label=True,average=None)\n",
    "    res.append([l,recall[0],recall[1]])\n",
    "    \n",
    "\n",
    "pd.DataFrame(res,columns = ['class','sensitivity','specificity'])"
   ]
  },
  {
   "cell_type": "code",
   "execution_count": 42,
   "id": "040d5962",
   "metadata": {},
   "outputs": [],
   "source": [
    "y_test = test_data.classes\n",
    "actual_test_labels= test_data.classes\n",
    "actual_test_labels= label_binarize(y_test, classes=[0, 1, 2, 3, 4, 5])\n",
    "possible_classes= actual_test_labels.shape[1]"
   ]
  },
  {
   "cell_type": "code",
   "execution_count": 1,
   "id": "000b435c",
   "metadata": {},
   "outputs": [
    {
     "ename": "NameError",
     "evalue": "name 'mean_tp_rates' is not defined",
     "output_type": "error",
     "traceback": [
      "\u001b[1;31m---------------------------------------------------------------------------\u001b[0m",
      "\u001b[1;31mNameError\u001b[0m                                 Traceback (most recent call last)",
      "\u001b[1;32m<ipython-input-1-57d64d3b05db>\u001b[0m in \u001b[0;36m<module>\u001b[1;34m\u001b[0m\n\u001b[1;32m----> 1\u001b[1;33m \u001b[0mmean_tp_rates\u001b[0m \u001b[1;33m/=\u001b[0m \u001b[0mpossible_classes\u001b[0m\u001b[1;33m\u001b[0m\u001b[1;33m\u001b[0m\u001b[0m\n\u001b[0m\u001b[0;32m      2\u001b[0m \u001b[1;33m\u001b[0m\u001b[0m\n\u001b[0;32m      3\u001b[0m \u001b[0mfp_rates\u001b[0m\u001b[1;33m[\u001b[0m\u001b[1;34m\"macro\"\u001b[0m\u001b[1;33m]\u001b[0m\u001b[1;33m=\u001b[0m \u001b[0mall_fp_rates\u001b[0m\u001b[1;33m\u001b[0m\u001b[1;33m\u001b[0m\u001b[0m\n\u001b[0;32m      4\u001b[0m \u001b[0mtp_rates\u001b[0m\u001b[1;33m[\u001b[0m\u001b[1;34m\"macro\"\u001b[0m\u001b[1;33m]\u001b[0m\u001b[1;33m=\u001b[0m \u001b[0mmean_tp_rates\u001b[0m\u001b[1;33m\u001b[0m\u001b[1;33m\u001b[0m\u001b[0m\n\u001b[0;32m      5\u001b[0m \u001b[0mroc_auc\u001b[0m\u001b[1;33m[\u001b[0m\u001b[1;34m\"macro\"\u001b[0m\u001b[1;33m]\u001b[0m\u001b[1;33m=\u001b[0m \u001b[0mauc\u001b[0m\u001b[1;33m(\u001b[0m\u001b[0mfp_rates\u001b[0m\u001b[1;33m[\u001b[0m\u001b[1;34m\"macro\"\u001b[0m\u001b[1;33m]\u001b[0m\u001b[1;33m,\u001b[0m \u001b[0mtp_rates\u001b[0m\u001b[1;33m[\u001b[0m\u001b[1;34m\"macro\"\u001b[0m\u001b[1;33m]\u001b[0m\u001b[1;33m)\u001b[0m\u001b[1;33m\u001b[0m\u001b[1;33m\u001b[0m\u001b[0m\n",
      "\u001b[1;31mNameError\u001b[0m: name 'mean_tp_rates' is not defined"
     ]
    }
   ],
   "source": [
    "mean_tp_rates /= possible_classes\n",
    "\n",
    "fp_rates[\"macro\"]= all_fp_rates\n",
    "tp_rates[\"macro\"]= mean_tp_rates\n",
    "roc_auc[\"macro\"]= auc(fp_rates[\"macro\"], tp_rates[\"macro\"])\n",
    "\n",
    "plot.figure()\n",
    "plot.plot(\n",
    "    fp_rates[\"micro\"],\n",
    "    tp_rates[\"micro\"],\n",
    "    label= \"micro-average ROC curve (area = {0:0.2f})\".format(roc_auc[\"micro\"]),\n",
    "    color= \"darkviolet\",\n",
    "    linewidth=3,\n",
    "    linestyle= \":\",)\n",
    "\n",
    "plot.plot(\n",
    "    fp_rates[\"macro\"],\n",
    "    tp_rates[\"macro\"],\n",
    "    label= \"macro-average ROC curve (area = {0:0.2f})\".format(roc_auc[\"macro\"]),\n",
    "    color= \"darkblue\",\n",
    "    linewidth=3,\n",
    "    linestyle= \":\",)\n",
    "\n",
    "colors= cycle([\"aquamarine\", \"chocolate\", \"navy\", \"gold\", \"olivedrab\", \"fuchsia\"])\n",
    "for i, color in zip(range(possible_classes), colors):\n",
    "    plot.plot(\n",
    "        fp_rates[i],\n",
    "        tp_rates[i],\n",
    "        color= color,\n",
    "        label= \"ROC curve of class {0} (area = {1:0.2f})\".format(i, roc_auc[i]), )\n",
    "\n",
    "plot.plot([0, 1], [0, 1], \"k--\")\n",
    "plot.xlabel(\"False Positive Rate\")\n",
    "plot.ylabel(\"True Positive Rate\")\n",
    "plot.legend(loc= 'upper left')\n",
    "plot.show()"
   ]
  },
  {
   "cell_type": "markdown",
   "id": "b90dc4a2",
   "metadata": {},
   "source": [
    "# VGG 16 Model"
   ]
  },
  {
   "cell_type": "code",
   "execution_count": 28,
   "id": "d2bdf13f",
   "metadata": {},
   "outputs": [],
   "source": [
    "from tensorflow.keras.applications import VGG16\n",
    "\n",
    "### Source for the weights used: \n",
    "### https://github.com/zdata-inc/applied_deep_learning/blob/master/vgg16_weights_tf_dim_ordering_tf_kernels_notop.h5\n",
    "\n",
    "path= 'C:/Users/Sam_S/OneDrive/Documents/Data science 2022-2023/Deep learning assignment/vgg16_weights_tf_dim_ordering_tf_kernels_notop.h5'\n",
    "\n",
    "pretrained_weights_model= VGG16(input_shape= (64, 64, 3), \n",
    "                        include_top= False, \n",
    "                        weights= None)\n",
    "pretrained_weights_model.load_weights(path)\n",
    "\n",
    "for layer in pretrained_weights_model.layers:\n",
    "     layer.trainable= False"
   ]
  },
  {
   "cell_type": "code",
   "execution_count": 29,
   "id": "fad4a09b",
   "metadata": {},
   "outputs": [],
   "source": [
    "from tensorflow.keras import Model\n",
    "\n",
    "final_output = pretrained_weights_model.get_layer('block5_pool').output\n",
    "\n",
    "x= tf.keras.layers.GlobalMaxPooling2D()(final_output)\n",
    "x= tf.keras.layers.Dense(1024, activation='relu')(x)  \n",
    "x= tf.keras.layers.Dropout(0.2)(x)                         \n",
    "x= tf.keras.layers.Dense(6, activation='softmax')(x)       \n",
    "\n",
    "new_model_vgg = Model(pretrained_weights_model.input, x) "
   ]
  },
  {
   "cell_type": "code",
   "execution_count": null,
   "id": "86f4b001",
   "metadata": {},
   "outputs": [
    {
     "name": "stdout",
     "output_type": "stream",
     "text": [
      "Epoch 1/40\n",
      "176/176 - 452s - loss: 0.7024 - accuracy: 0.7325 - val_loss: 0.5786 - val_accuracy: 0.7867 - lr: 0.0010 - 452s/epoch - 3s/step\n",
      "Epoch 2/40\n",
      "176/176 - 444s - loss: 0.5231 - accuracy: 0.8061 - val_loss: 0.5752 - val_accuracy: 0.7924 - lr: 0.0010 - 444s/epoch - 3s/step\n",
      "Epoch 3/40\n",
      "176/176 - 451s - loss: 0.4779 - accuracy: 0.8237 - val_loss: 0.6287 - val_accuracy: 0.7671 - lr: 0.0010 - 451s/epoch - 3s/step\n",
      "Epoch 4/40\n",
      "176/176 - 402s - loss: 0.4510 - accuracy: 0.8327 - val_loss: 0.5341 - val_accuracy: 0.8081 - lr: 0.0010 - 402s/epoch - 2s/step\n",
      "Epoch 5/40\n",
      "176/176 - 375s - loss: 0.4158 - accuracy: 0.8454 - val_loss: 0.5161 - val_accuracy: 0.8192 - lr: 0.0010 - 375s/epoch - 2s/step\n",
      "Epoch 6/40\n",
      "176/176 - 366s - loss: 0.3931 - accuracy: 0.8558 - val_loss: 0.4971 - val_accuracy: 0.8299 - lr: 0.0010 - 366s/epoch - 2s/step\n",
      "Epoch 7/40\n"
     ]
    }
   ],
   "source": [
    "new_model_vgg.compile(optimizer = Adam(learning_rate=0.001), loss=CategoricalCrossentropy(), metrics = [\"accuracy\"])\n",
    "\n",
    "reduce_lr = ReduceLROnPlateau(monitor='val_loss', factor=np.sqrt(0.1), patience=5)\n",
    "early_stopping = tf.keras.callbacks.EarlyStopping(patience=10)\n",
    "\n",
    "vgg_model = new_model_vgg.fit(train_data, epochs=40, batch_size= 32, validation_data=val_data,\n",
    "                       verbose=2,\n",
    "                       callbacks=[early_stopping, reduce_lr])"
   ]
  },
  {
   "cell_type": "code",
   "execution_count": null,
   "id": "e59a8d62",
   "metadata": {},
   "outputs": [],
   "source": [
    "test_loss, test_accuracy = new_model_vgg.evaluate(test_data, batch_size= 64)"
   ]
  },
  {
   "cell_type": "code",
   "execution_count": null,
   "id": "0d2eea52",
   "metadata": {},
   "outputs": [],
   "source": [
    "plot.plot(vgg_model.history['accuracy'])\n",
    "plot.plot(vgg_model.history['val_accuracy'])\n",
    "plot.title('Model accuracy versus epochs')\n",
    "plot.ylabel('Accuracy')\n",
    "plot.xlabel('# Epoch')\n",
    "plot.legend(['Train', 'Validation'], loc= 'upper left')\n",
    "plot.show()"
   ]
  },
  {
   "cell_type": "code",
   "execution_count": null,
   "id": "627e5515",
   "metadata": {},
   "outputs": [],
   "source": [
    "plot.plot(vgg_model.history['loss'])\n",
    "plot.plot(vgg_model.history['val_loss'])\n",
    "plot.title('Model loss versus epochs')\n",
    "plot.ylabel('Loss')\n",
    "plot.xlabel('# Epoch')\n",
    "plot.legend(['Train', 'Validation'], loc='upper left')\n",
    "plot.show()"
   ]
  },
  {
   "cell_type": "code",
   "execution_count": null,
   "id": "f71009d1",
   "metadata": {},
   "outputs": [],
   "source": [
    "vgg_test_prediction= new_model_vgg.predict(test_data)\n",
    "\n",
    "y_pred= np.argmax(vgg_test_prediction, axis=1)\n",
    "y_true= test_data.classes"
   ]
  },
  {
   "cell_type": "code",
   "execution_count": null,
   "id": "ce65e332",
   "metadata": {},
   "outputs": [],
   "source": [
    "C_M= confusion_matrix(y_true, y_pred)\n",
    "ax= plot.axes()\n",
    "sns.heatmap(C_M, annot= True, fmt= \"d\", xticklabels= labels.values(), yticklabels= labels.values(), ax= ax)\n",
    "ax.set_title('Confusion matrix')\n",
    "plot.show()"
   ]
  },
  {
   "cell_type": "code",
   "execution_count": null,
   "id": "30091a77",
   "metadata": {},
   "outputs": [],
   "source": [
    "from sklearn.metrics import precision_recall_fscore_support\n",
    "import pandas as pd\n",
    "\n",
    "res = []\n",
    "for l in [0,1,2,3,4,5]:\n",
    "    prec,recall,_,_ = precision_recall_fscore_support(np.array(y_true)==l,\n",
    "                                                      np.array(y_pred)==l,\n",
    "                                                      pos_label=True,average=None)\n",
    "    res.append([l,recall[0],recall[1]])\n",
    "    \n",
    "\n",
    "pd.DataFrame(res,columns = ['class','sensitivity','specificity'])"
   ]
  },
  {
   "cell_type": "code",
   "execution_count": null,
   "id": "400df3e5",
   "metadata": {},
   "outputs": [],
   "source": [
    "print(roc_auc_score(y_true, vgg_test_prediction, multi_class= 'ovr'))"
   ]
  },
  {
   "cell_type": "code",
   "execution_count": null,
   "id": "4412e3cf",
   "metadata": {},
   "outputs": [],
   "source": [
    "y_train= train_data.classes\n",
    "y_test= test_data.classes\n",
    "\n",
    "vgg_test_prediction= new_model_vgg.predict(test_data)\n",
    "actual_test_labels= test_data.classes\n",
    "\n",
    "actual_test_labels= label_binarize(y_test, classes=[0, 1, 2, 3, 4, 5])\n",
    "possible_classes= actual_test_labels.shape[1]"
   ]
  },
  {
   "cell_type": "code",
   "execution_count": null,
   "id": "dd001ee6",
   "metadata": {},
   "outputs": [],
   "source": [
    "fp_rates= dict()\n",
    "tp_rates= dict()\n",
    "roc_auc= dict()\n",
    "for i in range(possible_classes):\n",
    "    fp_rates[i], tp_rates[i], _= roc_curve(actual_test_labels[:, i], vgg_test_prediction[:, i])\n",
    "    roc_auc[i]= auc(fp_rates[i], tp_rates[i])\n",
    "    \n",
    "fp_rates[\"micro\"], tp_rates[\"micro\"], _ = roc_curve(actual_test_labels.ravel(), vgg_test_prediction.ravel())\n",
    "roc_auc[\"micro\"]= auc(fp_rates[\"micro\"], tp_rates[\"micro\"])\n",
    "\n",
    "all_fp_rates= np.unique(np.concatenate([fp_rates[i] for i in range(possible_classes)]))\n",
    "\n",
    "mean_tp_rates= np.zeros_like(all_fp_rates)\n",
    "for i in range(possible_classes):\n",
    "    mean_tp_rates += np.interp(all_fp_rates, fp_rates[i], tp_rates[i])\n",
    "    \n",
    "mean_tp_rates /= possible_classes\n",
    "\n",
    "fp_rates[\"macro\"]= all_fp_rates\n",
    "tp_rates[\"macro\"]= mean_tp_rates\n",
    "roc_auc[\"macro\"]= auc(fp_rates[\"macro\"], tp_rates[\"macro\"])"
   ]
  },
  {
   "cell_type": "code",
   "execution_count": null,
   "id": "0f1fb786",
   "metadata": {},
   "outputs": [],
   "source": [
    "plot.figure()\n",
    "plot.plot(\n",
    "    fp_rates[\"micro\"],\n",
    "    tp_rates[\"micro\"],\n",
    "    label= \"micro-average ROC curve (area = {0:0.2f})\".format(roc_auc[\"micro\"]),\n",
    "    color= \"darkviolet\",\n",
    "    linewidth=3,\n",
    "    linestyle= \":\",)\n",
    "\n",
    "plot.plot(\n",
    "    fp_rates[\"macro\"],\n",
    "    tp_rates[\"macro\"],\n",
    "    label= \"macro-average ROC curve (area = {0:0.2f})\".format(roc_auc[\"macro\"]),\n",
    "    color= \"darkblue\",\n",
    "    linewidth=3,\n",
    "    linestyle= \":\",)\n",
    "\n",
    "colors= cycle([\"aquamarine\", \"chocolate\", \"navy\", \"gold\", \"olivedrab\", \"fuchsia\"])\n",
    "for i, color in zip(range(possible_classes), colors):\n",
    "    plot.plot(\n",
    "        fp_rates[i],\n",
    "        tp_rates[i],\n",
    "        color= color,\n",
    "        label= \"ROC curve of class {0} (area = {1:0.2f})\".format(i, roc_auc[i]), )\n",
    "\n",
    "plot.plot([0, 1], [0, 1], \"k--\")\n",
    "plot.xlabel(\"False Positive Rate\")\n",
    "plot.ylabel(\"True Positive Rate\")\n",
    "plot.legend()\n",
    "plot.show()"
   ]
  },
  {
   "cell_type": "code",
   "execution_count": null,
   "id": "cc836a5d",
   "metadata": {},
   "outputs": [],
   "source": []
  },
  {
   "cell_type": "code",
   "execution_count": null,
   "id": "d81f87d4",
   "metadata": {},
   "outputs": [],
   "source": []
  }
 ],
 "metadata": {
  "kernelspec": {
   "display_name": "Python 3",
   "language": "python",
   "name": "python3"
  },
  "language_info": {
   "codemirror_mode": {
    "name": "ipython",
    "version": 3
   },
   "file_extension": ".py",
   "mimetype": "text/x-python",
   "name": "python",
   "nbconvert_exporter": "python",
   "pygments_lexer": "ipython3",
   "version": "3.8.8"
  }
 },
 "nbformat": 4,
 "nbformat_minor": 5
}
